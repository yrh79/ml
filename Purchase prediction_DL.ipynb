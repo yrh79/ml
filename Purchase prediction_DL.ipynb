{
 "cells": [
  {
   "cell_type": "code",
   "execution_count": 20,
   "metadata": {},
   "outputs": [
    {
     "name": "stderr",
     "output_type": "stream",
     "text": [
      "/anaconda3/lib/python3.6/site-packages/pandas/core/generic.py:5430: SettingWithCopyWarning: \n",
      "A value is trying to be set on a copy of a slice from a DataFrame\n",
      "\n",
      "See the caveats in the documentation: http://pandas.pydata.org/pandas-docs/stable/indexing.html#indexing-view-versus-copy\n",
      "  self._update_inplace(new_data)\n"
     ]
    },
    {
     "name": "stdout",
     "output_type": "stream",
     "text": [
      "<class 'pandas.core.frame.DataFrame'>\n",
      "RangeIndex: 550068 entries, 0 to 550067\n",
      "Data columns (total 19 columns):\n",
      "Occupation                       550068 non-null int64\n",
      "Product_Category_1               550068 non-null int64\n",
      "Product_Category_2               550068 non-null float64\n",
      "Product_Category_3               550068 non-null float64\n",
      "Purchase                         550068 non-null int64\n",
      "Gender_M                         550068 non-null uint8\n",
      "Age_18-25                        550068 non-null uint8\n",
      "Age_26-35                        550068 non-null uint8\n",
      "Age_36-45                        550068 non-null uint8\n",
      "Age_46-50                        550068 non-null uint8\n",
      "Age_51-55                        550068 non-null uint8\n",
      "Age_55+                          550068 non-null uint8\n",
      "City_Category_B                  550068 non-null uint8\n",
      "City_Category_C                  550068 non-null uint8\n",
      "Stay_In_Current_City_Years_1     550068 non-null uint8\n",
      "Stay_In_Current_City_Years_2     550068 non-null uint8\n",
      "Stay_In_Current_City_Years_3     550068 non-null uint8\n",
      "Stay_In_Current_City_Years_4+    550068 non-null uint8\n",
      "Marital_Status_1                 550068 non-null uint8\n",
      "dtypes: float64(2), int64(3), uint8(14)\n",
      "memory usage: 28.3 MB\n"
     ]
    }
   ],
   "source": [
    "import time\n",
    "import pandas as pd\n",
    "import numpy as np\n",
    "import matplotlib.pyplot as plt\n",
    "\n",
    "df = pd.read_csv('train.csv')\n",
    "\n",
    "df1 = df[['Gender', 'Age', 'Occupation', 'City_Category',\n",
    "'Stay_In_Current_City_Years', 'Marital_Status', 'Product_Category_1',\n",
    "'Product_Category_2', 'Product_Category_3', 'Purchase']]\n",
    "\n",
    "df1['Product_Category_2'].fillna(0, inplace=True)\n",
    "df1['Product_Category_3'].fillna(0, inplace=True)\n",
    "\n",
    "object_names = ['Gender','Age',\n",
    "                'City_Category',\n",
    "                'Stay_In_Current_City_Years',\n",
    "                'Marital_Status']\n",
    "\n",
    "dataset = pd.get_dummies(df1,\n",
    "                         columns=object_names,\n",
    "                         drop_first=True)\n",
    "\n",
    "dataset.info()"
   ]
  },
  {
   "cell_type": "code",
   "execution_count": 21,
   "metadata": {},
   "outputs": [],
   "source": [
    "sample_df = dataset.sample(frac=0.20)"
   ]
  },
  {
   "cell_type": "code",
   "execution_count": 22,
   "metadata": {},
   "outputs": [
    {
     "data": {
      "text/plain": [
       "(110014, 19)"
      ]
     },
     "execution_count": 22,
     "metadata": {},
     "output_type": "execute_result"
    }
   ],
   "source": [
    "sample_df.shape"
   ]
  },
  {
   "cell_type": "code",
   "execution_count": 23,
   "metadata": {},
   "outputs": [
    {
     "data": {
      "text/plain": [
       "(550068, 19)"
      ]
     },
     "execution_count": 23,
     "metadata": {},
     "output_type": "execute_result"
    }
   ],
   "source": [
    "dataset.shape"
   ]
  },
  {
   "cell_type": "code",
   "execution_count": 11,
   "metadata": {},
   "outputs": [
    {
     "data": {
      "text/plain": [
       "23961"
      ]
     },
     "execution_count": 11,
     "metadata": {},
     "output_type": "execute_result"
    }
   ],
   "source": [
    "np.max(dataset['Purchase'])"
   ]
  },
  {
   "cell_type": "code",
   "execution_count": 3,
   "metadata": {},
   "outputs": [
    {
     "data": {
      "text/plain": [
       "Occupation                       False\n",
       "Product_Category_1               False\n",
       "Product_Category_2               False\n",
       "Product_Category_3               False\n",
       "Purchase                         False\n",
       "Gender_M                         False\n",
       "Age_18-25                        False\n",
       "Age_26-35                        False\n",
       "Age_36-45                        False\n",
       "Age_46-50                        False\n",
       "Age_51-55                        False\n",
       "Age_55+                          False\n",
       "City_Category_B                  False\n",
       "City_Category_C                  False\n",
       "Stay_In_Current_City_Years_1     False\n",
       "Stay_In_Current_City_Years_2     False\n",
       "Stay_In_Current_City_Years_3     False\n",
       "Stay_In_Current_City_Years_4+    False\n",
       "Marital_Status_1                 False\n",
       "dtype: bool"
      ]
     },
     "execution_count": 3,
     "metadata": {},
     "output_type": "execute_result"
    }
   ],
   "source": [
    "dataset.isna().any()"
   ]
  },
  {
   "cell_type": "code",
   "execution_count": 4,
   "metadata": {},
   "outputs": [
    {
     "data": {
      "text/plain": [
       "<matplotlib.axes._subplots.AxesSubplot at 0x11cb53790>"
      ]
     },
     "execution_count": 4,
     "metadata": {},
     "output_type": "execute_result"
    },
    {
     "data": {
      "image/png": "[encoded data removed]",
      "text/plain": [
       "<matplotlib.figure.Figure at 0x11cb53d50>"
      ]
     },
     "metadata": {},
     "output_type": "display_data"
    }
   ],
   "source": [
    "dataset['Purchase'].hist()"
   ]
  },
  {
   "cell_type": "code",
   "execution_count": 25,
   "metadata": {},
   "outputs": [],
   "source": [
    "sample_df['log_purchase'] = np.log(sample_df['Purchase'])"
   ]
  },
  {
   "cell_type": "code",
   "execution_count": 26,
   "metadata": {},
   "outputs": [
    {
     "data": {
      "image/png": "[encoded data removed]",
      "text/plain": [
       "<Figure size 432x288 with 1 Axes>"
      ]
     },
     "metadata": {},
     "output_type": "display_data"
    }
   ],
   "source": [
    "sample_df['log_purchase'].hist()\n",
    "plt.show()"
   ]
  },
  {
   "cell_type": "code",
   "execution_count": 28,
   "metadata": {},
   "outputs": [],
   "source": [
    "X = sample_df.drop(columns=['Purchase','log_purchase'])\n",
    "y = sample_df['log_purchase']"
   ]
  },
  {
   "cell_type": "code",
   "execution_count": 29,
   "metadata": {},
   "outputs": [],
   "source": [
    "from __future__ import division\n",
    "from sklearn.preprocessing import StandardScaler\n",
    "from sklearn.model_selection import train_test_split\n",
    "from sklearn.ensemble import RandomForestRegressor\n",
    "from sklearn.metrics import mean_squared_error"
   ]
  },
  {
   "cell_type": "code",
   "execution_count": 30,
   "metadata": {},
   "outputs": [],
   "source": [
    "X_train, X_test, y_train, y_test = train_test_split(X, y, test_size=0.2)"
   ]
  },
  {
   "cell_type": "code",
   "execution_count": 31,
   "metadata": {},
   "outputs": [
    {
     "name": "stdout",
     "output_type": "stream",
     "text": [
      "Train size is: (88011, 18)\n",
      "Test size is: (22003, 18)\n"
     ]
    }
   ],
   "source": [
    "print(\"Train size is: {}\".format(X_train.shape))\n",
    "print(\"Test size is: {}\".format(X_test.shape))"
   ]
  },
  {
   "cell_type": "code",
   "execution_count": 32,
   "metadata": {},
   "outputs": [],
   "source": [
    "sc = StandardScaler()\n",
    "\n",
    "X_train_sc = sc.fit_transform(X_train)\n",
    "X_test_sc = sc.transform(X_test)"
   ]
  },
  {
   "cell_type": "markdown",
   "metadata": {},
   "source": [
    "## Random Forest"
   ]
  },
  {
   "cell_type": "code",
   "execution_count": 34,
   "metadata": {},
   "outputs": [
    {
     "name": "stdout",
     "output_type": "stream",
     "text": [
      "118.10078716278076\n",
      "Train 0.7788117394416607\n",
      "Validation 0.5745580148161614\n",
      "3224.150338493422\n"
     ]
    }
   ],
   "source": [
    "start = time.time()\n",
    "\n",
    "np.random.seed(7)\n",
    "model = RandomForestRegressor(n_estimators=500,max_depth=60,random_state=7)\n",
    "model.fit(X_train,y_train)\n",
    "\n",
    "end = time.time()\n",
    "print (end - start)\n",
    "\n",
    "y_pred_train = model.predict(X_train)\n",
    "print('Train',np.sum(np.abs(np.exp(y_pred_train)-np.exp(y_train))/np.exp(y_train)<0.25)/y_train.shape[0])\n",
    "\n",
    "y_pred_test = model.predict(X_test)\n",
    "print('Validation',np.sum(np.abs(np.exp(y_pred_test)-np.exp(y_test))/np.exp(y_test)<0.25)/y_test.shape[0])\n",
    "\n",
    "print(np.sqrt(mean_squared_error(np.exp(y_test),np.exp(y_pred_test))))"
   ]
  },
  {
   "cell_type": "markdown",
   "metadata": {},
   "source": [
    "## Deep Learning"
   ]
  },
  {
   "cell_type": "code",
   "execution_count": 13,
   "metadata": {
    "scrolled": false
   },
   "outputs": [
    {
     "name": "stdout",
     "output_type": "stream",
     "text": [
      "Building model...\n",
      "Train on 440054 samples, validate on 110014 samples\n",
      "Epoch 1/50\n",
      "440054/440054 [==============================] - 8s 19us/step - loss: 0.8492 - val_loss: 0.3168\n",
      "Epoch 2/50\n",
      "440054/440054 [==============================] - 9s 21us/step - loss: 0.2703 - val_loss: 0.2410\n",
      "Epoch 3/50\n",
      "440054/440054 [==============================] - 13s 29us/step - loss: 0.2233 - val_loss: 0.2150\n",
      "Epoch 4/50\n",
      "440054/440054 [==============================] - 9s 21us/step - loss: 0.2072 - val_loss: 0.1798\n",
      "Epoch 5/50\n",
      "440054/440054 [==============================] - 9s 20us/step - loss: 0.1958 - val_loss: 0.2019\n",
      "Epoch 6/50\n",
      "440054/440054 [==============================] - 8s 19us/step - loss: 0.1941 - val_loss: 0.1639\n",
      "Epoch 7/50\n",
      "440054/440054 [==============================] - 9s 20us/step - loss: 0.1826 - val_loss: 0.1714\n",
      "Epoch 8/50\n",
      "440054/440054 [==============================] - 9s 21us/step - loss: 0.1780 - val_loss: 0.1649\n",
      "Epoch 9/50\n",
      "440054/440054 [==============================] - 10s 24us/step - loss: 0.1829 - val_loss: 0.1796\n",
      "Epoch 10/50\n",
      "440054/440054 [==============================] - 10s 23us/step - loss: 0.1792 - val_loss: 0.1563\n",
      "Epoch 11/50\n",
      "440054/440054 [==============================] - 10s 23us/step - loss: 0.1791 - val_loss: 0.1774\n",
      "Epoch 12/50\n",
      "440054/440054 [==============================] - 10s 22us/step - loss: 0.1729 - val_loss: 0.1681\n",
      "Epoch 13/50\n",
      "440054/440054 [==============================] - 10s 23us/step - loss: 0.1742 - val_loss: 0.1865\n",
      "Epoch 14/50\n",
      "440054/440054 [==============================] - 9s 21us/step - loss: 0.1716 - val_loss: 0.1545\n",
      "Epoch 15/50\n",
      "440054/440054 [==============================] - 9s 21us/step - loss: 0.1693 - val_loss: 0.2089\n",
      "Epoch 16/50\n",
      "440054/440054 [==============================] - 9s 21us/step - loss: 0.1740 - val_loss: 0.1736\n",
      "Epoch 17/50\n",
      "440054/440054 [==============================] - 9s 21us/step - loss: 0.1744 - val_loss: 0.1595\n",
      "Epoch 18/50\n",
      "440054/440054 [==============================] - 9s 21us/step - loss: 0.1703 - val_loss: 0.1547\n",
      "Epoch 19/50\n",
      "440054/440054 [==============================] - 9s 21us/step - loss: 0.1636 - val_loss: 0.1582\n",
      "Epoch 20/50\n",
      "440054/440054 [==============================] - 9s 21us/step - loss: 0.1622 - val_loss: 0.1630\n",
      "Epoch 21/50\n",
      "440054/440054 [==============================] - 9s 20us/step - loss: 0.1607 - val_loss: 0.1532\n",
      "Epoch 22/50\n",
      "440054/440054 [==============================] - 9s 21us/step - loss: 0.1644 - val_loss: 0.1520\n",
      "Epoch 23/50\n",
      "440054/440054 [==============================] - 9s 21us/step - loss: 0.1597 - val_loss: 0.1490\n",
      "Epoch 24/50\n",
      "440054/440054 [==============================] - 9s 20us/step - loss: 0.1603 - val_loss: 0.1547\n",
      "Epoch 25/50\n",
      "440054/440054 [==============================] - 9s 20us/step - loss: 0.1592 - val_loss: 0.1720\n",
      "Epoch 26/50\n",
      "440054/440054 [==============================] - 10s 22us/step - loss: 0.1624 - val_loss: 0.1520\n",
      "Epoch 27/50\n",
      "440054/440054 [==============================] - 11s 24us/step - loss: 0.1584 - val_loss: 0.1492\n",
      "Epoch 28/50\n",
      "440054/440054 [==============================] - 11s 24us/step - loss: 0.1601 - val_loss: 0.1537\n",
      "Epoch 29/50\n",
      "440054/440054 [==============================] - 11s 24us/step - loss: 0.1580 - val_loss: 0.1528\n",
      "Epoch 30/50\n",
      "440054/440054 [==============================] - 10s 24us/step - loss: 0.1564 - val_loss: 0.1921\n",
      "Epoch 31/50\n",
      "440054/440054 [==============================] - 10s 23us/step - loss: 0.1582 - val_loss: 0.1497\n",
      "Epoch 32/50\n",
      "440054/440054 [==============================] - 9s 20us/step - loss: 0.1590 - val_loss: 0.1693\n",
      "Epoch 33/50\n",
      "440054/440054 [==============================] - 8s 18us/step - loss: 0.1582 - val_loss: 0.1513\n",
      "Epoch 34/50\n",
      "440054/440054 [==============================] - 8s 19us/step - loss: 0.1584 - val_loss: 0.1514\n",
      "Epoch 35/50\n",
      "440054/440054 [==============================] - 8s 18us/step - loss: 0.1563 - val_loss: 0.2626\n",
      "Epoch 36/50\n",
      "440054/440054 [==============================] - 8s 18us/step - loss: 0.1572 - val_loss: 0.1606\n",
      "Epoch 37/50\n",
      "440054/440054 [==============================] - 8s 18us/step - loss: 0.1545 - val_loss: 0.1505\n",
      "Epoch 38/50\n",
      "440054/440054 [==============================] - 8s 18us/step - loss: 0.1552 - val_loss: 0.1544\n",
      "Epoch 39/50\n",
      "440054/440054 [==============================] - 8s 19us/step - loss: 0.1534 - val_loss: 0.1470\n",
      "Epoch 40/50\n",
      "440054/440054 [==============================] - 9s 20us/step - loss: 0.1524 - val_loss: 0.1544\n",
      "Epoch 41/50\n",
      "440054/440054 [==============================] - 9s 19us/step - loss: 0.1527 - val_loss: 0.1462\n",
      "Epoch 42/50\n",
      "440054/440054 [==============================] - 8s 19us/step - loss: 0.1556 - val_loss: 0.1499\n",
      "Epoch 43/50\n",
      "440054/440054 [==============================] - 8s 19us/step - loss: 0.1518 - val_loss: 0.1556\n",
      "Epoch 44/50\n",
      "440054/440054 [==============================] - 8s 18us/step - loss: 0.1509 - val_loss: 0.1500\n",
      "Epoch 45/50\n",
      "440054/440054 [==============================] - 8s 19us/step - loss: 0.1518 - val_loss: 0.1472\n",
      "Epoch 46/50\n",
      "440054/440054 [==============================] - 8s 19us/step - loss: 0.1510 - val_loss: 0.1483\n",
      "Epoch 47/50\n",
      "440054/440054 [==============================] - 9s 20us/step - loss: 0.1510 - val_loss: 0.1459\n",
      "Epoch 48/50\n",
      "440054/440054 [==============================] - 9s 20us/step - loss: 0.1524 - val_loss: 0.1483\n",
      "Epoch 49/50\n",
      "440054/440054 [==============================] - 8s 19us/step - loss: 0.1513 - val_loss: 0.1460\n",
      "Epoch 50/50\n",
      "440054/440054 [==============================] - 8s 19us/step - loss: 0.1537 - val_loss: 0.1485\n",
      "Done training...\n",
      "time elapsed:454.23\n"
     ]
    }
   ],
   "source": [
    "from keras.models import Sequential\n",
    "from keras.layers import Dense\n",
    "from keras.layers import Dropout\n",
    "from keras import regularizers\n",
    "from keras.optimizers import Adam\n",
    "import keras.backend as K\n",
    "np.random.seed(7)\n",
    "dims = X_train.shape[1]\n",
    "learning_rate = 0.001\n",
    "training_epochs = 50\n",
    "display_step = 200\n",
    "factor = 0.25\n",
    "batch = 128\n",
    "seed = 7\n",
    "beta_1 = 0.9\n",
    "beta_2 = 0.999\n",
    "epsilon = None\n",
    "decay = 0.001\n",
    "np.random.seed(seed)\n",
    "K.clear_session()\n",
    "model = Sequential()\n",
    "model.add(Dense(225, input_shape=(dims,), activation='relu',\n",
    "                kernel_regularizer=regularizers.l2(0.01)))\n",
    "model.add(Dense(115, activation = 'relu'))\n",
    "model.add(Dense(55, activation = 'relu'))\n",
    "model.add(Dense(27, activation = 'relu'))\n",
    "model.add(Dense(1, activation = 'relu'))\n",
    "model.compile(Adam(lr=learning_rate), 'mean_squared_error')\n",
    "\n",
    "start = time.time()\n",
    "print(\"Building model...\" )\n",
    "history = model.fit(X_train, y_train, validation_data = (X_test, y_test), epochs=training_epochs, \n",
    "          batch_size=batch,\n",
    "          verbose=1)\n",
    "end = time.time()\n",
    "print(\"Done training...\")\n",
    "print(\"time elapsed:%.2f\"%(end-start))"
   ]
  },
  {
   "cell_type": "code",
   "execution_count": 14,
   "metadata": {},
   "outputs": [],
   "source": [
    "model.save('purchase_predictor.h5')"
   ]
  },
  {
   "cell_type": "code",
   "execution_count": null,
   "metadata": {},
   "outputs": [],
   "source": [
    "model_dl = "
   ]
  },
  {
   "cell_type": "code",
   "execution_count": null,
   "metadata": {},
   "outputs": [],
   "source": [
    "y_pred_train = model.predict(X_train)\n",
    "print('Train',np.sum(np.abs(np.exp(y_pred_train)-np.exp(y_train))/np.exp(y_train)<0.25)/y_train.shape[0])"
   ]
  },
  {
   "cell_type": "code",
   "execution_count": 26,
   "metadata": {},
   "outputs": [
    {
     "data": {
      "text/plain": [
       "37.71666666666667"
      ]
     },
     "execution_count": 26,
     "metadata": {},
     "output_type": "execute_result"
    }
   ],
   "source": [
    "y_pred_test = model.predict(X_test)\n",
    "print('Validation',np.sum(np.abs(np.exp(y_pred_test)-np.exp(y_test))/np.exp(y_test)<0.25)/y_test.shape[0])\n",
    "\n",
    "print(np.sqrt(mean_squared_error(np.exp(y_test),np.exp(y_pred_test))))"
   ]
  },
  {
   "cell_type": "code",
   "execution_count": null,
   "metadata": {},
   "outputs": [
    {
     "name": "stdout",
     "output_type": "stream",
     "text": [
      "440054/440054 [==============================] - 8s 19us/step\n"
     ]
    }
   ],
   "source": [
    "y_pred_train = model.predict(X_train, verbose=1)\n",
    "print('Train',np.sum(np.abs(np.exp(y_pred_train)-np.exp(y_train))/np.exp(y_train)<0.25)/y_train.shape[0])\n",
    "\n",
    "# y_pred_test = model.predict(X_test)\n",
    "# print('Validation',np.sum(np.abs(np.exp(y_pred_test)-np.exp(y_test))/np.exp(y_test)<0.25)/y_test.shape[0])\n",
    "\n",
    "# print(np.sqrt(mean_squared_error(np.exp(y_test),np.exp(y_pred_test))))"
   ]
  },
  {
   "cell_type": "code",
   "execution_count": 1,
   "metadata": {},
   "outputs": [
    {
     "ename": "NameError",
     "evalue": "name 'history' is not defined",
     "output_type": "error",
     "traceback": [
      "\u001b[0;31m---------------------------------------------------------------------------\u001b[0m",
      "\u001b[0;31mNameError\u001b[0m                                 Traceback (most recent call last)",
      "\u001b[0;32m<ipython-input-1-170f5ce87cc0>\u001b[0m in \u001b[0;36m<module>\u001b[0;34m()\u001b[0m\n\u001b[0;32m----> 1\u001b[0;31m \u001b[0mhistory\u001b[0m\u001b[0;34m.\u001b[0m\u001b[0mhistory\u001b[0m\u001b[0;34m\u001b[0m\u001b[0m\n\u001b[0m",
      "\u001b[0;31mNameError\u001b[0m: name 'history' is not defined"
     ]
    }
   ],
   "source": [
    "history.history"
   ]
  },
  {
   "cell_type": "code",
   "execution_count": null,
   "metadata": {},
   "outputs": [],
   "source": []
  }
 ],
 "metadata": {
  "kernelspec": {
   "display_name": "Python 3",
   "language": "python",
   "name": "python3"
  },
  "language_info": {
   "codemirror_mode": {
    "name": "ipython",
    "version": 3
   },
   "file_extension": ".py",
   "mimetype": "text/x-python",
   "name": "python",
   "nbconvert_exporter": "python",
   "pygments_lexer": "ipython3",
   "version": "3.6.5"
  }
 },
 "nbformat": 4,
 "nbformat_minor": 2
}
